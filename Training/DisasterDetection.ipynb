{
 "cells": [
  {
   "cell_type": "code",
   "execution_count": 20,
   "metadata": {},
   "outputs": [],
   "source": [
    "import numpy as np\n",
    "import tensorflow as tf\n",
    "from tensorflow import keras\n",
    "from keras import layers,optimizers,losses,regularizers\n",
    "from keras.callbacks import ModelCheckpoint, CSVLogger, ReduceLROnPlateau, EarlyStopping\n",
    "from keras.applications import MobileNetV2\n",
    "import matplotlib.pyplot as plt\n",
    "from sklearn.metrics import accuracy_score,f1_score\n",
    "from sklearn.model_selection import train_test_split\n",
    "import pandas as pd\n",
    "import os"
   ]
  },
  {
   "attachments": {},
   "cell_type": "markdown",
   "metadata": {},
   "source": [
    "# Hyper Parameters\n"
   ]
  },
  {
   "cell_type": "code",
   "execution_count": 23,
   "metadata": {},
   "outputs": [],
   "source": [
    "columns=[\"files\",\"labels\"]\n",
    "LABELS=[\"non_fire_images\",\"fire_images\"]\n",
    "PATH=\"D:\\\\df\\\\ai\\\\fire_dataset\"\n",
    "IMAGE_WIDTH=512\n",
    "IMAGE_HEIGHT = 512\n",
    "BACH_SIZE= 4\n",
    "LR=1e-4\n",
    "CSV_PATH=\"../history.csv\"\n",
    "MODEL_SAVE=\"../firemodel\"\n",
    "N_EPOCHS=150\n",
    "LAMBDA=0.2"
   ]
  },
  {
   "attachments": {},
   "cell_type": "markdown",
   "metadata": {},
   "source": [
    "# Data Preparation"
   ]
  },
  {
   "cell_type": "code",
   "execution_count": 27,
   "metadata": {},
   "outputs": [
    {
     "name": "stdout",
     "output_type": "stream",
     "text": [
      "train :897\n",
      "val   :100\n"
     ]
    }
   ],
   "source": [
    "\n",
    "def load_data(path,train=True):\n",
    "    images=[]\n",
    "    labels=[]\n",
    "\n",
    "    if train :\n",
    "        df=pd.read_csv(\"../train.csv\",names=columns,header=1)\n",
    "    else:\n",
    "        df=pd.read_csv(\"test.csv\",names=columns,header=1)\n",
    "    \n",
    "    for _,row in df.iterrows():\n",
    "        label=int(row[\"labels\"])\n",
    "        labels.append(label)\n",
    "        images.append(os.path.join(path,\"train\",LABELS[label],row[\"files\"]))\n",
    "    return images,labels\n",
    "    \n",
    "def load_dataset(path,test_size=0.1,random_state=18):\n",
    "    images,labels=load_data(path)\n",
    "    train_images,val_images=train_test_split(images,test_size=test_size,random_state=random_state)\n",
    "    train_labels,val_labels=train_test_split(labels,test_size=test_size,random_state=random_state)\n",
    "\n",
    "    return (train_images,train_labels),(val_images,val_labels)\n",
    "\n",
    "\n",
    "def read_images(image_path,label):\n",
    "    image=tf.io.read_file(image_path)\n",
    "    image=tf.io.decode_jpeg(image)\n",
    "    height,width,channels=image.shape\n",
    "    image=tf.image.resize(image,(IMAGE_HEIGHT,IMAGE_WIDTH),tf.image.ResizeMethod.NEAREST_NEIGHBOR)\n",
    "    if channels==1:\n",
    "        image=tf.image.grayscale_to_rgb(image)\n",
    "    \n",
    "    image=np.array(image,dtype=np.float32)\n",
    "    if channels==4:\n",
    "        image = image[:,:,:3]\n",
    "    image=2*(image/255)-1\n",
    "\n",
    "    label=np.float32(label)\n",
    "\n",
    "     \n",
    "    return image,label\n",
    "def load_tensors(images,labels):\n",
    "    images,labels=tf.numpy_function(read_images,[images,labels],[tf.float32,tf.float32])\n",
    "    return images,labels\n",
    "\n",
    "    \n",
    "def tfData(images,labels):\n",
    "    ds=tf.data.Dataset.from_tensor_slices((images,labels))\n",
    "    ds=ds.map(load_tensors,num_parallel_calls=tf.data.AUTOTUNE)\n",
    "    ds=ds.cache()\n",
    "    ds=ds.batch(1)\n",
    "    ds=ds.prefetch(tf.data.AUTOTUNE)\n",
    "    return ds\n",
    "\n",
    "(train_images,train_labels),(val_images,val_labels)=load_dataset(PATH)\n",
    "\n",
    "ds_train=tfData(train_images,train_labels)\n",
    "ds_val=tfData(val_images,val_labels)\n",
    "\n",
    "print(f\"train :{len(train_images)}\")\n",
    "print(f\"val   :{len(val_images)}\")"
   ]
  },
  {
   "attachments": {},
   "cell_type": "markdown",
   "metadata": {},
   "source": [
    "# Build Model"
   ]
  },
  {
   "cell_type": "code",
   "execution_count": 4,
   "metadata": {},
   "outputs": [
    {
     "name": "stdout",
     "output_type": "stream",
     "text": [
      "Model: \"model\"\n",
      "_________________________________________________________________\n",
      " Layer (type)                Output Shape              Param #   \n",
      "=================================================================\n",
      " input_1 (InputLayer)        [(None, 512, 512, 3)]     0         \n",
      "                                                                 \n",
      " alex_net (AlexNet)          (None, 1)                 3802881   \n",
      "                                                                 \n",
      "=================================================================\n",
      "Total params: 3,802,881\n",
      "Trainable params: 3,800,129\n",
      "Non-trainable params: 2,752\n",
      "_________________________________________________________________\n"
     ]
    }
   ],
   "source": [
    "class CNNBlock(layers.Layer):\n",
    "    def __init__(self,filter_size,channels,padding=\"same\",filter_stride=1,pool_info=None):\n",
    "        super(CNNBlock,self).__init__()\n",
    "        self.dopool=False\n",
    "        self.conv=layers.Conv2D(channels,filter_size,filter_stride,padding=padding)\n",
    "        self.batch=layers.BatchNormalization()\n",
    "        if pool_info != None:\n",
    "            self.pooling=layers.MaxPool2D(pool_info[0],pool_info[1])\n",
    "            self.dopool=True\n",
    "    \n",
    "    def call(self,inputs,training=False):\n",
    "        x=self.conv(inputs)\n",
    "        x=self.batch(x,training=training)\n",
    "        x=tf.nn.relu(x)\n",
    "        if self.dopool:\n",
    "            x=self.pooling(x)\n",
    "        return x\n",
    "\n",
    "\n",
    "\n",
    "\n",
    "class AlexNet(tf.keras.Model):\n",
    "    def __init__(self):\n",
    "        super(AlexNet,self).__init__()\n",
    "\n",
    "        self.cnn1=CNNBlock((11,11),96,'valid',4,((3,3),2))\n",
    "        self.cnn2=CNNBlock((5,5),256,pool_info=((3,3),2))\n",
    "        self.cnn3=CNNBlock((3,3),384)\n",
    "        self.cnn4=CNNBlock((3,3),384)\n",
    "        self.cnn5=CNNBlock((3,3),256,pool_info=((3,3),2))\n",
    "        self.outputlayer=layers.Dense(1,activation=\"sigmoid\")\n",
    "    def call(self,inputs,training=False):\n",
    "        x=self.cnn1(inputs,training)\n",
    "        x=self.cnn2(x,training=training)\n",
    "        x=self.cnn3(x,training=training)\n",
    "        x=self.cnn4(x,training=training)\n",
    "        x=self.cnn5(x,training=training)\n",
    "        x=layers.Flatten()(x)\n",
    "        x=self.outputlayer(x,training=training)\n",
    "        return x\n",
    "\n",
    "\n",
    "model=AlexNet()\n",
    "inputs=keras.Input((IMAGE_HEIGHT,IMAGE_WIDTH,3))\n",
    "outputs=model(inputs)\n",
    "\n",
    "\n",
    "model=tf.keras.Model(inputs=inputs,outputs=outputs)\n",
    "model.summary()\n",
    "model.compile(\n",
    "        loss=losses.BinaryCrossentropy(),\n",
    "        optimizer=keras.optimizers.Adam(LR), metrics=[keras.metrics.BinaryAccuracy()]\n",
    "    )\n",
    "\n"
   ]
  },
  {
   "attachments": {},
   "cell_type": "markdown",
   "metadata": {},
   "source": [
    "# Training"
   ]
  },
  {
   "cell_type": "code",
   "execution_count": 5,
   "metadata": {},
   "outputs": [
    {
     "name": "stdout",
     "output_type": "stream",
     "text": [
      "Epoch 1/150\n",
      "225/225 [==============================] - ETA: 0s - loss: 0.3727 - binary_accuracy: 0.8763\n",
      "Epoch 1: val_loss improved from inf to 0.23445, saving model to firemodel\n"
     ]
    },
    {
     "name": "stderr",
     "output_type": "stream",
     "text": [
      "WARNING:absl:Found untraced functions such as conv2d_layer_call_fn, conv2d_layer_call_and_return_conditional_losses, _jit_compiled_convolution_op, conv2d_1_layer_call_fn, conv2d_1_layer_call_and_return_conditional_losses while saving (showing 5 of 15). These functions will not be directly callable after loading.\n"
     ]
    },
    {
     "name": "stdout",
     "output_type": "stream",
     "text": [
      "INFO:tensorflow:Assets written to: firemodel\\assets\n"
     ]
    },
    {
     "name": "stderr",
     "output_type": "stream",
     "text": [
      "INFO:tensorflow:Assets written to: firemodel\\assets\n"
     ]
    },
    {
     "name": "stdout",
     "output_type": "stream",
     "text": [
      "225/225 [==============================] - 34s 130ms/step - loss: 0.3727 - binary_accuracy: 0.8763 - val_loss: 0.2344 - val_binary_accuracy: 0.8900 - lr: 1.0000e-04\n",
      "Epoch 2/150\n",
      "224/225 [============================>.] - ETA: 0s - loss: 0.2071 - binary_accuracy: 0.9342\n",
      "Epoch 2: val_loss improved from 0.23445 to 0.12560, saving model to firemodel\n"
     ]
    },
    {
     "name": "stderr",
     "output_type": "stream",
     "text": [
      "WARNING:absl:Found untraced functions such as conv2d_layer_call_fn, conv2d_layer_call_and_return_conditional_losses, _jit_compiled_convolution_op, conv2d_1_layer_call_fn, conv2d_1_layer_call_and_return_conditional_losses while saving (showing 5 of 15). These functions will not be directly callable after loading.\n"
     ]
    },
    {
     "name": "stdout",
     "output_type": "stream",
     "text": [
      "INFO:tensorflow:Assets written to: firemodel\\assets\n"
     ]
    },
    {
     "name": "stderr",
     "output_type": "stream",
     "text": [
      "INFO:tensorflow:Assets written to: firemodel\\assets\n"
     ]
    },
    {
     "name": "stdout",
     "output_type": "stream",
     "text": [
      "225/225 [==============================] - 23s 101ms/step - loss: 0.2068 - binary_accuracy: 0.9342 - val_loss: 0.1256 - val_binary_accuracy: 0.9400 - lr: 1.0000e-04\n",
      "Epoch 3/150\n",
      "224/225 [============================>.] - ETA: 0s - loss: 0.1374 - binary_accuracy: 0.9453\n",
      "Epoch 3: val_loss did not improve from 0.12560\n",
      "225/225 [==============================] - 20s 87ms/step - loss: 0.1372 - binary_accuracy: 0.9454 - val_loss: 0.1678 - val_binary_accuracy: 0.9600 - lr: 1.0000e-04\n",
      "Epoch 4/150\n",
      "224/225 [============================>.] - ETA: 0s - loss: 0.1086 - binary_accuracy: 0.9598\n",
      "Epoch 4: val_loss improved from 0.12560 to 0.06156, saving model to firemodel\n"
     ]
    },
    {
     "name": "stderr",
     "output_type": "stream",
     "text": [
      "WARNING:absl:Found untraced functions such as conv2d_layer_call_fn, conv2d_layer_call_and_return_conditional_losses, _jit_compiled_convolution_op, conv2d_1_layer_call_fn, conv2d_1_layer_call_and_return_conditional_losses while saving (showing 5 of 15). These functions will not be directly callable after loading.\n"
     ]
    },
    {
     "name": "stdout",
     "output_type": "stream",
     "text": [
      "INFO:tensorflow:Assets written to: firemodel\\assets\n"
     ]
    },
    {
     "name": "stderr",
     "output_type": "stream",
     "text": [
      "INFO:tensorflow:Assets written to: firemodel\\assets\n"
     ]
    },
    {
     "name": "stdout",
     "output_type": "stream",
     "text": [
      "225/225 [==============================] - 22s 99ms/step - loss: 0.1085 - binary_accuracy: 0.9599 - val_loss: 0.0616 - val_binary_accuracy: 0.9800 - lr: 1.0000e-04\n",
      "Epoch 5/150\n",
      "224/225 [============================>.] - ETA: 0s - loss: 0.0890 - binary_accuracy: 0.9654\n",
      "Epoch 5: val_loss improved from 0.06156 to 0.05957, saving model to firemodel\n"
     ]
    },
    {
     "name": "stderr",
     "output_type": "stream",
     "text": [
      "WARNING:absl:Found untraced functions such as conv2d_layer_call_fn, conv2d_layer_call_and_return_conditional_losses, _jit_compiled_convolution_op, conv2d_1_layer_call_fn, conv2d_1_layer_call_and_return_conditional_losses while saving (showing 5 of 15). These functions will not be directly callable after loading.\n"
     ]
    },
    {
     "name": "stdout",
     "output_type": "stream",
     "text": [
      "INFO:tensorflow:Assets written to: firemodel\\assets\n"
     ]
    },
    {
     "name": "stderr",
     "output_type": "stream",
     "text": [
      "INFO:tensorflow:Assets written to: firemodel\\assets\n"
     ]
    },
    {
     "name": "stdout",
     "output_type": "stream",
     "text": [
      "225/225 [==============================] - 24s 106ms/step - loss: 0.0889 - binary_accuracy: 0.9654 - val_loss: 0.0596 - val_binary_accuracy: 0.9700 - lr: 1.0000e-04\n",
      "Epoch 6/150\n",
      "224/225 [============================>.] - ETA: 0s - loss: 0.0834 - binary_accuracy: 0.9688\n",
      "Epoch 6: val_loss did not improve from 0.05957\n",
      "225/225 [==============================] - 20s 87ms/step - loss: 0.0833 - binary_accuracy: 0.9688 - val_loss: 0.0932 - val_binary_accuracy: 0.9600 - lr: 1.0000e-04\n",
      "Epoch 7/150\n",
      "224/225 [============================>.] - ETA: 0s - loss: 0.0545 - binary_accuracy: 0.9788\n",
      "Epoch 7: val_loss did not improve from 0.05957\n",
      "225/225 [==============================] - 19s 86ms/step - loss: 0.0544 - binary_accuracy: 0.9788 - val_loss: 0.1515 - val_binary_accuracy: 0.9600 - lr: 1.0000e-04\n",
      "Epoch 8/150\n",
      "224/225 [============================>.] - ETA: 0s - loss: 0.0469 - binary_accuracy: 0.9810\n",
      "Epoch 8: val_loss did not improve from 0.05957\n",
      "225/225 [==============================] - 25s 110ms/step - loss: 0.0468 - binary_accuracy: 0.9810 - val_loss: 0.5064 - val_binary_accuracy: 0.9100 - lr: 1.0000e-04\n",
      "Epoch 9/150\n",
      "224/225 [============================>.] - ETA: 0s - loss: 0.0341 - binary_accuracy: 0.9900\n",
      "Epoch 9: val_loss did not improve from 0.05957\n",
      "225/225 [==============================] - 22s 98ms/step - loss: 0.0341 - binary_accuracy: 0.9900 - val_loss: 0.1053 - val_binary_accuracy: 0.9600 - lr: 1.0000e-04\n",
      "Epoch 10/150\n",
      "224/225 [============================>.] - ETA: 0s - loss: 0.0092 - binary_accuracy: 0.9967\n",
      "Epoch 10: val_loss did not improve from 0.05957\n",
      "\n",
      "Epoch 10: ReduceLROnPlateau reducing learning rate to 9.999999747378752e-06.\n",
      "225/225 [==============================] - 22s 96ms/step - loss: 0.0092 - binary_accuracy: 0.9967 - val_loss: 0.0937 - val_binary_accuracy: 0.9600 - lr: 1.0000e-04\n",
      "Epoch 11/150\n",
      "224/225 [============================>.] - ETA: 0s - loss: 0.0150 - binary_accuracy: 0.9933\n",
      "Epoch 11: val_loss did not improve from 0.05957\n",
      "225/225 [==============================] - 22s 98ms/step - loss: 0.0150 - binary_accuracy: 0.9933 - val_loss: 0.0957 - val_binary_accuracy: 0.9700 - lr: 1.0000e-05\n",
      "Epoch 12/150\n",
      "224/225 [============================>.] - ETA: 0s - loss: 0.0034 - binary_accuracy: 1.0000\n",
      "Epoch 12: val_loss did not improve from 0.05957\n",
      "225/225 [==============================] - 20s 87ms/step - loss: 0.0034 - binary_accuracy: 1.0000 - val_loss: 0.0922 - val_binary_accuracy: 0.9700 - lr: 1.0000e-05\n",
      "Epoch 13/150\n",
      "224/225 [============================>.] - ETA: 0s - loss: 0.0023 - binary_accuracy: 1.0000\n",
      "Epoch 13: val_loss did not improve from 0.05957\n",
      "225/225 [==============================] - 22s 98ms/step - loss: 0.0023 - binary_accuracy: 1.0000 - val_loss: 0.0909 - val_binary_accuracy: 0.9600 - lr: 1.0000e-05\n",
      "Epoch 14/150\n",
      "224/225 [============================>.] - ETA: 0s - loss: 0.0018 - binary_accuracy: 1.0000\n",
      "Epoch 14: val_loss did not improve from 0.05957\n",
      "225/225 [==============================] - 21s 91ms/step - loss: 0.0018 - binary_accuracy: 1.0000 - val_loss: 0.0898 - val_binary_accuracy: 0.9600 - lr: 1.0000e-05\n",
      "Epoch 15/150\n",
      "224/225 [============================>.] - ETA: 0s - loss: 0.0015 - binary_accuracy: 1.0000\n",
      "Epoch 15: val_loss did not improve from 0.05957\n",
      "\n",
      "Epoch 15: ReduceLROnPlateau reducing learning rate to 9.999999747378752e-07.\n",
      "225/225 [==============================] - 21s 91ms/step - loss: 0.0015 - binary_accuracy: 1.0000 - val_loss: 0.0888 - val_binary_accuracy: 0.9600 - lr: 1.0000e-05\n",
      "Epoch 16/150\n",
      "224/225 [============================>.] - ETA: 0s - loss: 0.0012 - binary_accuracy: 1.0000\n",
      "Epoch 16: val_loss did not improve from 0.05957\n",
      "225/225 [==============================] - 20s 91ms/step - loss: 0.0012 - binary_accuracy: 1.0000 - val_loss: 0.0878 - val_binary_accuracy: 0.9600 - lr: 1.0000e-06\n",
      "Epoch 17/150\n",
      "224/225 [============================>.] - ETA: 0s - loss: 0.0012 - binary_accuracy: 1.0000\n",
      "Epoch 17: val_loss did not improve from 0.05957\n",
      "225/225 [==============================] - 20s 91ms/step - loss: 0.0012 - binary_accuracy: 1.0000 - val_loss: 0.0873 - val_binary_accuracy: 0.9600 - lr: 1.0000e-06\n",
      "Epoch 18/150\n",
      "224/225 [============================>.] - ETA: 0s - loss: 0.0012 - binary_accuracy: 1.0000\n",
      "Epoch 18: val_loss did not improve from 0.05957\n",
      "225/225 [==============================] - 21s 91ms/step - loss: 0.0012 - binary_accuracy: 1.0000 - val_loss: 0.0869 - val_binary_accuracy: 0.9600 - lr: 1.0000e-06\n",
      "Epoch 19/150\n",
      "225/225 [==============================] - ETA: 0s - loss: 0.0012 - binary_accuracy: 1.0000\n",
      "Epoch 19: val_loss did not improve from 0.05957\n",
      "225/225 [==============================] - 20s 91ms/step - loss: 0.0012 - binary_accuracy: 1.0000 - val_loss: 0.0866 - val_binary_accuracy: 0.9600 - lr: 1.0000e-06\n",
      "Epoch 20/150\n",
      "224/225 [============================>.] - ETA: 0s - loss: 0.0011 - binary_accuracy: 1.0000\n",
      "Epoch 20: val_loss did not improve from 0.05957\n",
      "\n",
      "Epoch 20: ReduceLROnPlateau reducing learning rate to 1e-07.\n",
      "225/225 [==============================] - 21s 91ms/step - loss: 0.0011 - binary_accuracy: 1.0000 - val_loss: 0.0863 - val_binary_accuracy: 0.9600 - lr: 1.0000e-06\n",
      "Epoch 21/150\n",
      "224/225 [============================>.] - ETA: 0s - loss: 0.0011 - binary_accuracy: 1.0000\n",
      "Epoch 21: val_loss did not improve from 0.05957\n",
      "225/225 [==============================] - 20s 88ms/step - loss: 0.0011 - binary_accuracy: 1.0000 - val_loss: 0.0862 - val_binary_accuracy: 0.9600 - lr: 1.0000e-07\n",
      "Epoch 22/150\n",
      "224/225 [============================>.] - ETA: 0s - loss: 0.0011 - binary_accuracy: 1.0000\n",
      "Epoch 22: val_loss did not improve from 0.05957\n",
      "225/225 [==============================] - 20s 90ms/step - loss: 0.0011 - binary_accuracy: 1.0000 - val_loss: 0.0861 - val_binary_accuracy: 0.9600 - lr: 1.0000e-07\n",
      "Epoch 23/150\n",
      "224/225 [============================>.] - ETA: 0s - loss: 0.0011 - binary_accuracy: 1.0000\n",
      "Epoch 23: val_loss did not improve from 0.05957\n",
      "225/225 [==============================] - 20s 91ms/step - loss: 0.0011 - binary_accuracy: 1.0000 - val_loss: 0.0861 - val_binary_accuracy: 0.9600 - lr: 1.0000e-07\n",
      "Epoch 24/150\n",
      "224/225 [============================>.] - ETA: 0s - loss: 0.0011 - binary_accuracy: 1.0000\n",
      "Epoch 24: val_loss did not improve from 0.05957\n",
      "225/225 [==============================] - 21s 92ms/step - loss: 0.0011 - binary_accuracy: 1.0000 - val_loss: 0.0861 - val_binary_accuracy: 0.9600 - lr: 1.0000e-07\n",
      "Epoch 25/150\n",
      "224/225 [============================>.] - ETA: 0s - loss: 0.0011 - binary_accuracy: 1.0000\n",
      "Epoch 25: val_loss did not improve from 0.05957\n",
      "225/225 [==============================] - 21s 92ms/step - loss: 0.0011 - binary_accuracy: 1.0000 - val_loss: 0.0860 - val_binary_accuracy: 0.9600 - lr: 1.0000e-07\n"
     ]
    }
   ],
   "source": [
    "callbacks = [\n",
    "        ModelCheckpoint(MODEL_SAVE, verbose=1, save_best_only=True),\n",
    "        ReduceLROnPlateau(monitor='val_loss', factor=0.1, patience=5, min_lr=1e-7,min_delta=0.001, verbose=1),\n",
    "        EarlyStopping(monitor='val_loss', patience=20, restore_best_weights=False),\n",
    "        CSVLogger(CSV_PATH,append=False)\n",
    "    ]\n",
    "\n",
    "history=model.fit(\n",
    "        ds_train,\n",
    "        epochs=N_EPOCHS,\n",
    "        validation_data=ds_val,\n",
    "        verbose=1,\n",
    "        batch_size=BACH_SIZE,\n",
    "        callbacks=callbacks\n",
    "    )"
   ]
  },
  {
   "attachments": {},
   "cell_type": "markdown",
   "metadata": {},
   "source": [
    "# Evaluation"
   ]
  },
  {
   "attachments": {},
   "cell_type": "markdown",
   "metadata": {},
   "source": [
    "# training history"
   ]
  },
  {
   "cell_type": "code",
   "execution_count": 18,
   "metadata": {},
   "outputs": [
    {
     "name": "stdout",
     "output_type": "stream",
     "text": [
      "['epoch', 'binary_accuracy', 'loss', 'lr', 'val_binary_accuracy', 'val_loss']\n"
     ]
    },
    {
     "data": {
      "image/png": "[encoded data removed]",
      "text/plain": [
       "<Figure size 1440x360 with 2 Axes>"
      ]
     },
     "metadata": {
      "needs_background": "light"
     },
     "output_type": "display_data"
    }
   ],
   "source": [
    "df=pd.read_csv(\"../history.csv\")\n",
    "x=np.arange(df.shape[0])\n",
    "\n",
    "print(list(df.keys()))\n",
    "infos=[[\"accuracy\",\"binary_accuracy\",\"val_binary_accuracy\"],[\"loss\",\"loss\",\"val_loss\"]]\n",
    "\n",
    "fig,axes=plt.subplots(1,2,figsize=(20,5))\n",
    "for i in range(0,2):\n",
    "    axes[i].set_title(f\"{infos[i][0]} over epochs\")\n",
    "    axes[i].set_xlabel(\"epochs\")\n",
    "    axes[i].set_ylabel(infos[i][0])\n",
    "    axes[i].plot(x,df[infos[i][1]],label=infos[i][1],c=\"blue\")\n",
    "    axes[i].plot(x,df[infos[i][2]],label=infos[i][2],c=\"red\")\n",
    "    axes[i].legend()"
   ]
  },
  {
   "attachments": {},
   "cell_type": "markdown",
   "metadata": {},
   "source": [
    "## Metrics for testing"
   ]
  },
  {
   "cell_type": "code",
   "execution_count": 28,
   "metadata": {},
   "outputs": [
    {
     "name": "stdout",
     "output_type": "stream",
     "text": [
      "[1, 1, 0, 1, 1, 1, 1, 1, 1, 1, 0, 0, 1, 1, 1, 0, 1, 1, 1, 0, 0, 1, 1, 1, 1, 1, 1, 1, 1, 0, 1, 1, 1, 0, 1, 1, 1, 1, 0, 1, 1, 0, 1, 1, 1, 1, 1, 1, 1, 1, 1, 0, 0, 1, 1, 1, 1, 1, 1, 1, 1, 1, 1, 1, 1, 1, 0, 1, 0, 1, 1, 1, 0, 1, 0, 1, 0, 0, 1, 1, 1, 0, 1, 1, 1, 1, 0, 1, 1, 1, 1, 0, 1, 1, 1, 1, 1, 1, 1, 0]\n",
      "accuracy score is :0.97\n",
      "f1 score is :0.980891719745223\n"
     ]
    }
   ],
   "source": [
    "model=tf.keras.models.load_model(MODEL_SAVE)\n",
    "ds_test=tfData(val_images,val_labels)\n",
    "ds_test = iter(ds_test)\n",
    "classes=[0,1]\n",
    "labels=[]\n",
    "preds=[]\n",
    "for images,label in ds_test:\n",
    "    pred_label=model.predict(images,verbose=0)\n",
    "    preds.append(1 if pred_label > 0.5 else 0)\n",
    "    labels.append(label)\n",
    "print(preds)\n",
    "print(f\"accuracy score is :{accuracy_score(labels,preds)}\")    \n",
    "print(f\"f1 score is :{f1_score(labels,preds)}\")    "
   ]
  }
 ],
 "metadata": {
  "kernelspec": {
   "display_name": "Python 3",
   "language": "python",
   "name": "python3"
  },
  "language_info": {
   "codemirror_mode": {
    "name": "ipython",
    "version": 3
   },
   "file_extension": ".py",
   "mimetype": "text/x-python",
   "name": "python",
   "nbconvert_exporter": "python",
   "pygments_lexer": "ipython3",
   "version": "3.9.7"
  },
  "orig_nbformat": 4
 },
 "nbformat": 4,
 "nbformat_minor": 2
}
