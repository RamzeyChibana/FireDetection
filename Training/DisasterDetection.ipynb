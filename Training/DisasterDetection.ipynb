{
 "cells": [
  {
   "cell_type": "code",
   "execution_count": 1,
   "metadata": {},
   "outputs": [],
   "source": [
    "import numpy as np\n",
    "import tensorflow as tf\n",
    "from tensorflow import keras\n",
    "from keras import layers,optimizers,losses,regularizers\n",
    "from keras.callbacks import ModelCheckpoint, CSVLogger, ReduceLROnPlateau, EarlyStopping\n",
    "from keras.applications import MobileNetV2\n",
    "import matplotlib.pyplot as plt\n",
    "from sklearn.metrics import accuracy_score,f1_score\n",
    "from sklearn.model_selection import train_test_split\n",
    "import pandas as pd\n",
    "import os"
   ]
  },
  {
   "attachments": {},
   "cell_type": "markdown",
   "metadata": {},
   "source": [
    "# Hyper Parameters\n"
   ]
  },
  {
   "cell_type": "code",
   "execution_count": 2,
   "metadata": {},
   "outputs": [],
   "source": [
    "columns=[\"files\",\"labels\"]\n",
    "LABELS=['fire', 'fog', 'No fire', 'smoke', 'sunset']\n",
    "PATH=\"D:\\\\df\\\\ai\\\\fire\"\n",
    "IMAGE_WIDTH=256\n",
    "IMAGE_HEIGHT = 256\n",
    "BACH_SIZE= 8\n",
    "LR=1e-4\n",
    "CSV_PATH=\"../history.csv\"\n",
    "MODEL_SAVE=\"../new\"\n",
    "N_CLASSES=len(LABELS)\n",
    "N_EPOCHS=150\n",
    "LAMBDA=0.2"
   ]
  },
  {
   "attachments": {},
   "cell_type": "markdown",
   "metadata": {},
   "source": [
    "# Data Preparation"
   ]
  },
  {
   "cell_type": "code",
   "execution_count": 12,
   "metadata": {},
   "outputs": [
    {
     "name": "stdout",
     "output_type": "stream",
     "text": [
      "train :893\n",
      "val   :100\n"
     ]
    }
   ],
   "source": [
    "\n",
    "def load_data(path,train=True):\n",
    "    images=[]\n",
    "    labels=[]\n",
    "\n",
    "    if train :\n",
    "        df=pd.read_csv(\"../data/train.csv\",names=columns,header=1)\n",
    "    else:\n",
    "        df=pd.read_csv(\"../data/test.csv\",names=columns,header=1)\n",
    "    \n",
    "    for _,row in df.iterrows():\n",
    "        label=row[\"labels\"]\n",
    "        labels.append(LABELS.index(label))\n",
    "        if train:\n",
    "            images.append(os.path.join(path,\"train\",label,row[\"files\"]))\n",
    "        else :\n",
    "            images.append(os.path.join(path,\"test\",label,row[\"files\"]))\n",
    "    return images,labels\n",
    "    \n",
    "def load_dataset(path,test_size=0.1,random_state=18):\n",
    "    images,labels=load_data(path)\n",
    "    test_images,test_labels=load_data(path,train=False)\n",
    "    train_images,val_images=train_test_split(images,test_size=test_size,random_state=random_state)\n",
    "    train_labels,val_labels=train_test_split(labels,test_size=test_size,random_state=random_state)\n",
    "\n",
    "    return (train_images,train_labels),(val_images,val_labels),(test_images,test_labels)\n",
    "\n",
    "\n",
    "def read_images(image_path,label):\n",
    "    image=tf.io.read_file(image_path)\n",
    "    image=tf.io.decode_jpeg(image)\n",
    "    height,width,channels=image.shape\n",
    "    image=tf.image.resize(image,(IMAGE_HEIGHT,IMAGE_WIDTH),tf.image.ResizeMethod.NEAREST_NEIGHBOR)\n",
    "    \n",
    "    if channels==1:\n",
    "        image=tf.image.grayscale_to_rgb(image)\n",
    "    image=np.array(image,dtype=np.float32)\n",
    "    if channels==4:\n",
    "        image = image[:,:,:3]\n",
    "    \n",
    "    #Normalization [-1,1]\n",
    "    image=(image/255)\n",
    "\n",
    "    one_hot=np.zeros(N_CLASSES,dtype=np.float32)\n",
    "    one_hot[label]=1\n",
    "     \n",
    "    return image,one_hot\n",
    "def load_tensors(images,labels):\n",
    "    images,labels=tf.numpy_function(read_images,[images,labels],[tf.float32,tf.float32])\n",
    "    return images,labels\n",
    "\n",
    "    \n",
    "def tfData(images,labels,batch_size=BACH_SIZE):\n",
    "    ds=tf.data.Dataset.from_tensor_slices((images,labels))\n",
    "    ds=ds.map(load_tensors,num_parallel_calls=tf.data.AUTOTUNE)\n",
    "    ds=ds.cache()\n",
    "    ds=ds.batch(batch_size)\n",
    "    ds=ds.prefetch(tf.data.AUTOTUNE)\n",
    "    return ds\n",
    "\n",
    "(train_images,train_labels),(val_images,val_labels),(test_images,test_labels)=load_dataset(PATH)\n",
    "\n",
    "ds_train=tfData(train_images,train_labels)\n",
    "ds_val=tfData(val_images,val_labels)\n",
    "\n",
    "print(f\"train :{len(train_images)}\")\n",
    "print(f\"val   :{len(val_images)}\")"
   ]
  },
  {
   "attachments": {},
   "cell_type": "markdown",
   "metadata": {},
   "source": [
    "# Build Model"
   ]
  },
  {
   "cell_type": "code",
   "execution_count": 16,
   "metadata": {},
   "outputs": [
    {
     "name": "stdout",
     "output_type": "stream",
     "text": [
      "Model: \"model\"\n",
      "_________________________________________________________________\n",
      " Layer (type)                Output Shape              Param #   \n",
      "=================================================================\n",
      " input_1 (InputLayer)        [(None, 256, 256, 3)]     0         \n",
      "                                                                 \n",
      " cnn_block (CNNBlock)        (None, 30, 30, 96)        35328     \n",
      "                                                                 \n",
      " cnn_block_1 (CNNBlock)      (None, 14, 14, 256)       615680    \n",
      "                                                                 \n",
      " cnn_block_2 (CNNBlock)      (None, 14, 14, 384)       886656    \n",
      "                                                                 \n",
      " cnn_block_3 (CNNBlock)      (None, 14, 14, 384)       1329024   \n",
      "                                                                 \n",
      " cnn_block_4 (CNNBlock)      (None, 6, 6, 256)         886016    \n",
      "                                                                 \n",
      " flatten (Flatten)           (None, 9216)              0         \n",
      "                                                                 \n",
      " dense (Dense)               (None, 5)                 46085     \n",
      "                                                                 \n",
      "=================================================================\n",
      "Total params: 3,798,789\n",
      "Trainable params: 3,796,037\n",
      "Non-trainable params: 2,752\n",
      "_________________________________________________________________\n",
      "None\n",
      "Model: \"model_1\"\n",
      "_________________________________________________________________\n",
      " Layer (type)                Output Shape              Param #   \n",
      "=================================================================\n",
      " input_2 (InputLayer)        [(None, 256, 256, 3)]     0         \n",
      "                                                                 \n",
      " alex_net_1 (AlexNet)        (None, 5)                 3798789   \n",
      "                                                                 \n",
      "=================================================================\n",
      "Total params: 3,798,789\n",
      "Trainable params: 3,796,037\n",
      "Non-trainable params: 2,752\n",
      "_________________________________________________________________\n"
     ]
    }
   ],
   "source": [
    "class CNNBlock(layers.Layer):\n",
    "    def __init__(self,filter_size,channels,padding=\"same\",filter_stride=1,pool_info=None):\n",
    "        super(CNNBlock,self).__init__()\n",
    "        self.dopool=False\n",
    "        self.conv=layers.Conv2D(channels,filter_size,filter_stride,padding=padding)\n",
    "        self.batch=layers.BatchNormalization()\n",
    "        if pool_info != None:\n",
    "            self.pooling=layers.MaxPool2D(pool_info[0],pool_info[1])\n",
    "            self.dopool=True\n",
    "    \n",
    "    def call(self,inputs,training=False):\n",
    "        x=self.conv(inputs)\n",
    "        x=self.batch(x,training=training)\n",
    "        x=tf.nn.relu(x)\n",
    "        if self.dopool:\n",
    "            x=self.pooling(x)\n",
    "        return x\n",
    "\n",
    "\n",
    "\n",
    "\n",
    "class AlexNet(tf.keras.Model):\n",
    "    def __init__(self):\n",
    "        super(AlexNet,self).__init__()\n",
    "\n",
    "        self.cnn1=CNNBlock((11,11),96,'valid',4,((3,3),2))\n",
    "        self.cnn2=CNNBlock((5,5),256,pool_info=((3,3),2))\n",
    "        self.cnn3=CNNBlock((3,3),384)\n",
    "        self.cnn4=CNNBlock((3,3),384)\n",
    "        self.cnn5=CNNBlock((3,3),256,pool_info=((3,3),2))\n",
    "        self.outputlayer=layers.Dense(N_CLASSES,activation=\"softmax\")\n",
    "    def call(self,inputs,training=False):\n",
    "        x=self.cnn1(inputs,training)\n",
    "        x=self.cnn2(x,training=training)\n",
    "        x=self.cnn3(x,training=training)\n",
    "        x=self.cnn4(x,training=training)\n",
    "        x=self.cnn5(x,training=training)\n",
    "        x=layers.Flatten()(x)\n",
    "        x=self.outputlayer(x,training=training)\n",
    "        return x\n",
    "    def architecture(self):\n",
    "        x=keras.Input((256,256,3))\n",
    "        model=tf.keras.Model(inputs=[x],outputs=self.call(x))\n",
    "        return model.summary()\n",
    "m=AlexNet()\n",
    "print(m.architecture())\n",
    "\n",
    "model=AlexNet()\n",
    "inputs=keras.Input((IMAGE_HEIGHT,IMAGE_WIDTH,3))\n",
    "outputs=model(inputs)\n",
    "\n",
    "\n",
    "model=tf.keras.Model(inputs=inputs,outputs=outputs)\n",
    "model.summary()\n",
    "model.compile(\n",
    "        loss=\"categorical_crossentropy\",\n",
    "        optimizer=keras.optimizers.Adam(LR), metrics=[keras.metrics.CategoricalAccuracy()]\n",
    "    )\n",
    "\n"
   ]
  },
  {
   "attachments": {},
   "cell_type": "markdown",
   "metadata": {},
   "source": [
    "# Training"
   ]
  },
  {
   "cell_type": "code",
   "execution_count": 6,
   "metadata": {},
   "outputs": [
    {
     "name": "stdout",
     "output_type": "stream",
     "text": [
      "Epoch 1/150\n",
      "112/112 [==============================] - ETA: 0s - loss: 0.6743 - categorical_accuracy: 0.7895\n",
      "Epoch 1: val_loss improved from inf to 2.24251, saving model to ..\\new\n"
     ]
    },
    {
     "name": "stderr",
     "output_type": "stream",
     "text": [
      "WARNING:absl:Found untraced functions such as conv2d_layer_call_fn, conv2d_layer_call_and_return_conditional_losses, _jit_compiled_convolution_op, conv2d_1_layer_call_fn, conv2d_1_layer_call_and_return_conditional_losses while saving (showing 5 of 15). These functions will not be directly callable after loading.\n"
     ]
    },
    {
     "name": "stdout",
     "output_type": "stream",
     "text": [
      "INFO:tensorflow:Assets written to: ..\\new\\assets\n"
     ]
    },
    {
     "name": "stderr",
     "output_type": "stream",
     "text": [
      "INFO:tensorflow:Assets written to: ..\\new\\assets\n"
     ]
    },
    {
     "name": "stdout",
     "output_type": "stream",
     "text": [
      "112/112 [==============================] - 17s 108ms/step - loss: 0.6743 - categorical_accuracy: 0.7895 - val_loss: 2.2425 - val_categorical_accuracy: 0.3200 - lr: 1.0000e-04\n",
      "Epoch 2/150\n",
      "112/112 [==============================] - ETA: 0s - loss: 0.2380 - categorical_accuracy: 0.9149\n",
      "Epoch 2: val_loss did not improve from 2.24251\n",
      "112/112 [==============================] - 6s 52ms/step - loss: 0.2380 - categorical_accuracy: 0.9149 - val_loss: 2.9046 - val_categorical_accuracy: 0.1000 - lr: 1.0000e-04\n",
      "Epoch 3/150\n",
      "112/112 [==============================] - ETA: 0s - loss: 0.1059 - categorical_accuracy: 0.9630\n",
      "Epoch 3: val_loss improved from 2.24251 to 1.62122, saving model to ..\\new\n"
     ]
    },
    {
     "name": "stderr",
     "output_type": "stream",
     "text": [
      "WARNING:absl:Found untraced functions such as conv2d_layer_call_fn, conv2d_layer_call_and_return_conditional_losses, _jit_compiled_convolution_op, conv2d_1_layer_call_fn, conv2d_1_layer_call_and_return_conditional_losses while saving (showing 5 of 15). These functions will not be directly callable after loading.\n"
     ]
    },
    {
     "name": "stdout",
     "output_type": "stream",
     "text": [
      "INFO:tensorflow:Assets written to: ..\\new\\assets\n"
     ]
    },
    {
     "name": "stderr",
     "output_type": "stream",
     "text": [
      "INFO:tensorflow:Assets written to: ..\\new\\assets\n"
     ]
    },
    {
     "name": "stdout",
     "output_type": "stream",
     "text": [
      "112/112 [==============================] - 9s 78ms/step - loss: 0.1059 - categorical_accuracy: 0.9630 - val_loss: 1.6212 - val_categorical_accuracy: 0.4100 - lr: 1.0000e-04\n",
      "Epoch 4/150\n",
      "112/112 [==============================] - ETA: 0s - loss: 0.0398 - categorical_accuracy: 0.9933\n",
      "Epoch 4: val_loss improved from 1.62122 to 0.93677, saving model to ..\\new\n"
     ]
    },
    {
     "name": "stderr",
     "output_type": "stream",
     "text": [
      "WARNING:absl:Found untraced functions such as conv2d_layer_call_fn, conv2d_layer_call_and_return_conditional_losses, _jit_compiled_convolution_op, conv2d_1_layer_call_fn, conv2d_1_layer_call_and_return_conditional_losses while saving (showing 5 of 15). These functions will not be directly callable after loading.\n"
     ]
    },
    {
     "name": "stdout",
     "output_type": "stream",
     "text": [
      "INFO:tensorflow:Assets written to: ..\\new\\assets\n"
     ]
    },
    {
     "name": "stderr",
     "output_type": "stream",
     "text": [
      "INFO:tensorflow:Assets written to: ..\\new\\assets\n"
     ]
    },
    {
     "name": "stdout",
     "output_type": "stream",
     "text": [
      "112/112 [==============================] - 9s 76ms/step - loss: 0.0398 - categorical_accuracy: 0.9933 - val_loss: 0.9368 - val_categorical_accuracy: 0.6500 - lr: 1.0000e-04\n",
      "Epoch 5/150\n",
      "111/112 [============================>.] - ETA: 0s - loss: 0.0274 - categorical_accuracy: 0.9944\n",
      "Epoch 5: val_loss improved from 0.93677 to 0.30557, saving model to ..\\new\n"
     ]
    },
    {
     "name": "stderr",
     "output_type": "stream",
     "text": [
      "WARNING:absl:Found untraced functions such as conv2d_layer_call_fn, conv2d_layer_call_and_return_conditional_losses, _jit_compiled_convolution_op, conv2d_1_layer_call_fn, conv2d_1_layer_call_and_return_conditional_losses while saving (showing 5 of 15). These functions will not be directly callable after loading.\n"
     ]
    },
    {
     "name": "stdout",
     "output_type": "stream",
     "text": [
      "INFO:tensorflow:Assets written to: ..\\new\\assets\n"
     ]
    },
    {
     "name": "stderr",
     "output_type": "stream",
     "text": [
      "INFO:tensorflow:Assets written to: ..\\new\\assets\n"
     ]
    },
    {
     "name": "stdout",
     "output_type": "stream",
     "text": [
      "112/112 [==============================] - 9s 78ms/step - loss: 0.0272 - categorical_accuracy: 0.9944 - val_loss: 0.3056 - val_categorical_accuracy: 0.9200 - lr: 1.0000e-04\n",
      "Epoch 6/150\n",
      "112/112 [==============================] - ETA: 0s - loss: 0.0060 - categorical_accuracy: 1.0000\n",
      "Epoch 6: val_loss improved from 0.30557 to 0.16964, saving model to ..\\new\n"
     ]
    },
    {
     "name": "stderr",
     "output_type": "stream",
     "text": [
      "WARNING:absl:Found untraced functions such as conv2d_layer_call_fn, conv2d_layer_call_and_return_conditional_losses, _jit_compiled_convolution_op, conv2d_1_layer_call_fn, conv2d_1_layer_call_and_return_conditional_losses while saving (showing 5 of 15). These functions will not be directly callable after loading.\n"
     ]
    },
    {
     "name": "stdout",
     "output_type": "stream",
     "text": [
      "INFO:tensorflow:Assets written to: ..\\new\\assets\n"
     ]
    },
    {
     "name": "stderr",
     "output_type": "stream",
     "text": [
      "INFO:tensorflow:Assets written to: ..\\new\\assets\n"
     ]
    },
    {
     "name": "stdout",
     "output_type": "stream",
     "text": [
      "112/112 [==============================] - 9s 78ms/step - loss: 0.0060 - categorical_accuracy: 1.0000 - val_loss: 0.1696 - val_categorical_accuracy: 0.9300 - lr: 1.0000e-04\n",
      "Epoch 7/150\n",
      "112/112 [==============================] - ETA: 0s - loss: 0.0019 - categorical_accuracy: 1.0000\n",
      "Epoch 7: val_loss improved from 0.16964 to 0.12919, saving model to ..\\new\n"
     ]
    },
    {
     "name": "stderr",
     "output_type": "stream",
     "text": [
      "WARNING:absl:Found untraced functions such as conv2d_layer_call_fn, conv2d_layer_call_and_return_conditional_losses, _jit_compiled_convolution_op, conv2d_1_layer_call_fn, conv2d_1_layer_call_and_return_conditional_losses while saving (showing 5 of 15). These functions will not be directly callable after loading.\n"
     ]
    },
    {
     "name": "stdout",
     "output_type": "stream",
     "text": [
      "INFO:tensorflow:Assets written to: ..\\new\\assets\n"
     ]
    },
    {
     "name": "stderr",
     "output_type": "stream",
     "text": [
      "INFO:tensorflow:Assets written to: ..\\new\\assets\n"
     ]
    },
    {
     "name": "stdout",
     "output_type": "stream",
     "text": [
      "112/112 [==============================] - 9s 79ms/step - loss: 0.0019 - categorical_accuracy: 1.0000 - val_loss: 0.1292 - val_categorical_accuracy: 0.9500 - lr: 1.0000e-04\n",
      "Epoch 8/150\n",
      "112/112 [==============================] - ETA: 0s - loss: 0.0011 - categorical_accuracy: 1.0000\n",
      "Epoch 8: val_loss improved from 0.12919 to 0.12338, saving model to ..\\new\n"
     ]
    },
    {
     "name": "stderr",
     "output_type": "stream",
     "text": [
      "WARNING:absl:Found untraced functions such as conv2d_layer_call_fn, conv2d_layer_call_and_return_conditional_losses, _jit_compiled_convolution_op, conv2d_1_layer_call_fn, conv2d_1_layer_call_and_return_conditional_losses while saving (showing 5 of 15). These functions will not be directly callable after loading.\n"
     ]
    },
    {
     "name": "stdout",
     "output_type": "stream",
     "text": [
      "INFO:tensorflow:Assets written to: ..\\new\\assets\n"
     ]
    },
    {
     "name": "stderr",
     "output_type": "stream",
     "text": [
      "INFO:tensorflow:Assets written to: ..\\new\\assets\n"
     ]
    },
    {
     "name": "stdout",
     "output_type": "stream",
     "text": [
      "112/112 [==============================] - 9s 77ms/step - loss: 0.0011 - categorical_accuracy: 1.0000 - val_loss: 0.1234 - val_categorical_accuracy: 0.9400 - lr: 1.0000e-04\n",
      "Epoch 9/150\n",
      "112/112 [==============================] - ETA: 0s - loss: 7.8148e-04 - categorical_accuracy: 1.0000\n",
      "Epoch 9: val_loss improved from 0.12338 to 0.12239, saving model to ..\\new\n"
     ]
    },
    {
     "name": "stderr",
     "output_type": "stream",
     "text": [
      "WARNING:absl:Found untraced functions such as conv2d_layer_call_fn, conv2d_layer_call_and_return_conditional_losses, _jit_compiled_convolution_op, conv2d_1_layer_call_fn, conv2d_1_layer_call_and_return_conditional_losses while saving (showing 5 of 15). These functions will not be directly callable after loading.\n"
     ]
    },
    {
     "name": "stdout",
     "output_type": "stream",
     "text": [
      "INFO:tensorflow:Assets written to: ..\\new\\assets\n"
     ]
    },
    {
     "name": "stderr",
     "output_type": "stream",
     "text": [
      "INFO:tensorflow:Assets written to: ..\\new\\assets\n"
     ]
    },
    {
     "name": "stdout",
     "output_type": "stream",
     "text": [
      "112/112 [==============================] - 9s 76ms/step - loss: 7.8148e-04 - categorical_accuracy: 1.0000 - val_loss: 0.1224 - val_categorical_accuracy: 0.9400 - lr: 1.0000e-04\n",
      "Epoch 10/150\n",
      "111/112 [============================>.] - ETA: 0s - loss: 6.2856e-04 - categorical_accuracy: 1.0000\n",
      "Epoch 10: val_loss improved from 0.12239 to 0.12193, saving model to ..\\new\n"
     ]
    },
    {
     "name": "stderr",
     "output_type": "stream",
     "text": [
      "WARNING:absl:Found untraced functions such as conv2d_layer_call_fn, conv2d_layer_call_and_return_conditional_losses, _jit_compiled_convolution_op, conv2d_1_layer_call_fn, conv2d_1_layer_call_and_return_conditional_losses while saving (showing 5 of 15). These functions will not be directly callable after loading.\n"
     ]
    },
    {
     "name": "stdout",
     "output_type": "stream",
     "text": [
      "INFO:tensorflow:Assets written to: ..\\new\\assets\n"
     ]
    },
    {
     "name": "stderr",
     "output_type": "stream",
     "text": [
      "INFO:tensorflow:Assets written to: ..\\new\\assets\n"
     ]
    },
    {
     "name": "stdout",
     "output_type": "stream",
     "text": [
      "112/112 [==============================] - 9s 81ms/step - loss: 6.2618e-04 - categorical_accuracy: 1.0000 - val_loss: 0.1219 - val_categorical_accuracy: 0.9400 - lr: 1.0000e-04\n",
      "Epoch 11/150\n",
      "111/112 [============================>.] - ETA: 0s - loss: 5.2678e-04 - categorical_accuracy: 1.0000\n",
      "Epoch 11: val_loss did not improve from 0.12193\n",
      "112/112 [==============================] - 6s 54ms/step - loss: 5.2487e-04 - categorical_accuracy: 1.0000 - val_loss: 0.1221 - val_categorical_accuracy: 0.9500 - lr: 1.0000e-04\n",
      "Epoch 12/150\n",
      "111/112 [============================>.] - ETA: 0s - loss: 4.5344e-04 - categorical_accuracy: 1.0000\n",
      "Epoch 12: val_loss did not improve from 0.12193\n",
      "112/112 [==============================] - 6s 54ms/step - loss: 4.5186e-04 - categorical_accuracy: 1.0000 - val_loss: 0.1223 - val_categorical_accuracy: 0.9500 - lr: 1.0000e-04\n",
      "Epoch 13/150\n",
      "111/112 [============================>.] - ETA: 0s - loss: 3.9690e-04 - categorical_accuracy: 1.0000\n",
      "Epoch 13: val_loss did not improve from 0.12193\n",
      "112/112 [==============================] - 6s 55ms/step - loss: 3.9557e-04 - categorical_accuracy: 1.0000 - val_loss: 0.1226 - val_categorical_accuracy: 0.9500 - lr: 1.0000e-04\n",
      "Epoch 14/150\n",
      "111/112 [============================>.] - ETA: 0s - loss: 3.5132e-04 - categorical_accuracy: 1.0000\n",
      "Epoch 14: val_loss did not improve from 0.12193\n",
      "112/112 [==============================] - 6s 53ms/step - loss: 3.5018e-04 - categorical_accuracy: 1.0000 - val_loss: 0.1228 - val_categorical_accuracy: 0.9500 - lr: 1.0000e-04\n",
      "Epoch 15/150\n",
      "111/112 [============================>.] - ETA: 0s - loss: 3.1362e-04 - categorical_accuracy: 1.0000\n",
      "Epoch 15: val_loss did not improve from 0.12193\n",
      "\n",
      "Epoch 15: ReduceLROnPlateau reducing learning rate to 9.999999747378752e-06.\n",
      "112/112 [==============================] - 6s 54ms/step - loss: 3.1264e-04 - categorical_accuracy: 1.0000 - val_loss: 0.1230 - val_categorical_accuracy: 0.9500 - lr: 1.0000e-04\n",
      "Epoch 16/150\n",
      "111/112 [============================>.] - ETA: 0s - loss: 2.8012e-04 - categorical_accuracy: 1.0000\n",
      "Epoch 16: val_loss did not improve from 0.12193\n",
      "112/112 [==============================] - 6s 53ms/step - loss: 2.7932e-04 - categorical_accuracy: 1.0000 - val_loss: 0.1221 - val_categorical_accuracy: 0.9500 - lr: 1.0000e-05\n",
      "Epoch 17/150\n",
      "111/112 [============================>.] - ETA: 0s - loss: 2.7705e-04 - categorical_accuracy: 1.0000\n",
      "Epoch 17: val_loss did not improve from 0.12193\n",
      "112/112 [==============================] - 6s 54ms/step - loss: 2.7626e-04 - categorical_accuracy: 1.0000 - val_loss: 0.1219 - val_categorical_accuracy: 0.9500 - lr: 1.0000e-05\n",
      "Epoch 18/150\n",
      "112/112 [==============================] - ETA: 0s - loss: 2.7314e-04 - categorical_accuracy: 1.0000\n",
      "Epoch 18: val_loss did not improve from 0.12193\n",
      "112/112 [==============================] - 7s 60ms/step - loss: 2.7314e-04 - categorical_accuracy: 1.0000 - val_loss: 0.1219 - val_categorical_accuracy: 0.9500 - lr: 1.0000e-05\n",
      "Epoch 19/150\n",
      "111/112 [============================>.] - ETA: 0s - loss: 2.7076e-04 - categorical_accuracy: 1.0000\n",
      "Epoch 19: val_loss did not improve from 0.12193\n",
      "112/112 [==============================] - 7s 58ms/step - loss: 2.6999e-04 - categorical_accuracy: 1.0000 - val_loss: 0.1220 - val_categorical_accuracy: 0.9500 - lr: 1.0000e-05\n",
      "Epoch 20/150\n",
      "112/112 [==============================] - ETA: 0s - loss: 2.6673e-04 - categorical_accuracy: 1.0000\n",
      "Epoch 20: val_loss did not improve from 0.12193\n",
      "\n",
      "Epoch 20: ReduceLROnPlateau reducing learning rate to 9.999999747378752e-07.\n",
      "112/112 [==============================] - 6s 57ms/step - loss: 2.6673e-04 - categorical_accuracy: 1.0000 - val_loss: 0.1221 - val_categorical_accuracy: 0.9600 - lr: 1.0000e-05\n",
      "Epoch 21/150\n",
      "111/112 [============================>.] - ETA: 0s - loss: 2.6378e-04 - categorical_accuracy: 1.0000\n",
      "Epoch 21: val_loss did not improve from 0.12193\n",
      "112/112 [==============================] - 6s 55ms/step - loss: 2.6304e-04 - categorical_accuracy: 1.0000 - val_loss: 0.1220 - val_categorical_accuracy: 0.9600 - lr: 1.0000e-06\n",
      "Epoch 22/150\n",
      "111/112 [============================>.] - ETA: 0s - loss: 2.6344e-04 - categorical_accuracy: 1.0000\n",
      "Epoch 22: val_loss did not improve from 0.12193\n",
      "112/112 [==============================] - 6s 58ms/step - loss: 2.6270e-04 - categorical_accuracy: 1.0000 - val_loss: 0.1220 - val_categorical_accuracy: 0.9600 - lr: 1.0000e-06\n",
      "Epoch 23/150\n",
      "111/112 [============================>.] - ETA: 0s - loss: 2.6306e-04 - categorical_accuracy: 1.0000\n",
      "Epoch 23: val_loss did not improve from 0.12193\n",
      "112/112 [==============================] - 6s 56ms/step - loss: 2.6232e-04 - categorical_accuracy: 1.0000 - val_loss: 0.1220 - val_categorical_accuracy: 0.9600 - lr: 1.0000e-06\n",
      "Epoch 24/150\n",
      "112/112 [==============================] - ETA: 0s - loss: 2.6194e-04 - categorical_accuracy: 1.0000\n",
      "Epoch 24: val_loss did not improve from 0.12193\n",
      "112/112 [==============================] - 7s 58ms/step - loss: 2.6194e-04 - categorical_accuracy: 1.0000 - val_loss: 0.1220 - val_categorical_accuracy: 0.9600 - lr: 1.0000e-06\n",
      "Epoch 25/150\n",
      "111/112 [============================>.] - ETA: 0s - loss: 2.6226e-04 - categorical_accuracy: 1.0000\n",
      "Epoch 25: val_loss did not improve from 0.12193\n",
      "\n",
      "Epoch 25: ReduceLROnPlateau reducing learning rate to 1e-07.\n",
      "112/112 [==============================] - 6s 56ms/step - loss: 2.6153e-04 - categorical_accuracy: 1.0000 - val_loss: 0.1221 - val_categorical_accuracy: 0.9600 - lr: 1.0000e-06\n",
      "Epoch 26/150\n",
      "111/112 [============================>.] - ETA: 0s - loss: 2.6176e-04 - categorical_accuracy: 1.0000\n",
      "Epoch 26: val_loss did not improve from 0.12193\n",
      "112/112 [==============================] - 6s 57ms/step - loss: 2.6103e-04 - categorical_accuracy: 1.0000 - val_loss: 0.1220 - val_categorical_accuracy: 0.9600 - lr: 1.0000e-07\n",
      "Epoch 27/150\n",
      "112/112 [==============================] - ETA: 0s - loss: 2.6101e-04 - categorical_accuracy: 1.0000\n",
      "Epoch 27: val_loss did not improve from 0.12193\n",
      "112/112 [==============================] - 6s 52ms/step - loss: 2.6101e-04 - categorical_accuracy: 1.0000 - val_loss: 0.1220 - val_categorical_accuracy: 0.9600 - lr: 1.0000e-07\n"
     ]
    }
   ],
   "source": [
    "callbacks = [\n",
    "        ModelCheckpoint(MODEL_SAVE, verbose=1, save_best_only=True),\n",
    "        ReduceLROnPlateau(monitor='val_loss', factor=0.1, patience=5, min_lr=1e-7, verbose=1),\n",
    "        EarlyStopping(monitor='val_loss', patience=20, restore_best_weights=False,min_delta=0.01),\n",
    "        CSVLogger(CSV_PATH,append=False)\n",
    "    ]\n",
    "\n",
    "history=model.fit(\n",
    "        ds_train,\n",
    "        epochs=N_EPOCHS,\n",
    "        validation_data=ds_val,\n",
    "        verbose=1,\n",
    "        callbacks=callbacks\n",
    "    )"
   ]
  },
  {
   "attachments": {},
   "cell_type": "markdown",
   "metadata": {},
   "source": [
    "# Evaluation"
   ]
  },
  {
   "attachments": {},
   "cell_type": "markdown",
   "metadata": {},
   "source": [
    "# training history"
   ]
  },
  {
   "cell_type": "code",
   "execution_count": 7,
   "metadata": {},
   "outputs": [
    {
     "name": "stdout",
     "output_type": "stream",
     "text": [
      "['epoch', 'categorical_accuracy', 'loss', 'lr', 'val_categorical_accuracy', 'val_loss']\n"
     ]
    },
    {
     "data": {
      "image/png": "[encoded data removed]",
      "text/plain": [
       "<Figure size 1440x360 with 2 Axes>"
      ]
     },
     "metadata": {
      "needs_background": "light"
     },
     "output_type": "display_data"
    }
   ],
   "source": [
    "df=pd.read_csv(\"../history.csv\")\n",
    "x=np.arange(df.shape[0])\n",
    "\n",
    "print(list(df.keys()))\n",
    "infos=[[\"accuracy\",\"categorical_accuracy\",\"val_categorical_accuracy\"],[\"loss\",\"loss\",\"val_loss\"]]\n",
    "\n",
    "fig,axes=plt.subplots(1,2,figsize=(20,5))\n",
    "for i in range(0,2):\n",
    "    axes[i].set_title(f\"{infos[i][0]} over epochs\")\n",
    "    axes[i].set_xlabel(\"epochs\")\n",
    "    axes[i].set_ylabel(infos[i][0])\n",
    "    axes[i].plot(x,df[infos[i][1]],label=infos[i][1],c=\"blue\")\n",
    "    axes[i].plot(x,df[infos[i][2]],label=infos[i][2],c=\"red\")\n",
    "    axes[i].legend()"
   ]
  },
  {
   "attachments": {},
   "cell_type": "markdown",
   "metadata": {},
   "source": [
    "## Metrics for testing"
   ]
  },
  {
   "cell_type": "code",
   "execution_count": 14,
   "metadata": {},
   "outputs": [
    {
     "name": "stdout",
     "output_type": "stream",
     "text": [
      "accuracy score is :0.96\n",
      "f1       score is :0.96\n"
     ]
    }
   ],
   "source": [
    "model=tf.keras.models.load_model(MODEL_SAVE)\n",
    "ds_test=tfData(test_images,test_labels,1)\n",
    "ds_test = iter(ds_test)\n",
    "labels=[]\n",
    "real_bboxs=[]\n",
    "preds=[]\n",
    "for images,label in ds_test:\n",
    "    pred_label=model.predict(images,verbose=0)\n",
    "    preds.append(np.argmax(pred_label))\n",
    "    labels.append(np.argmax(label))\n",
    "print(f\"accuracy score is :{accuracy_score(labels,preds):.2f}\")    \n",
    "print(f\"f1       score is :{f1_score(labels,preds,average='micro'):.2f}\")    \n"
   ]
  }
 ],
 "metadata": {
  "kernelspec": {
   "display_name": "Python 3",
   "language": "python",
   "name": "python3"
  },
  "language_info": {
   "codemirror_mode": {
    "name": "ipython",
    "version": 3
   },
   "file_extension": ".py",
   "mimetype": "text/x-python",
   "name": "python",
   "nbconvert_exporter": "python",
   "pygments_lexer": "ipython3",
   "version": "3.9.7"
  },
  "orig_nbformat": 4
 },
 "nbformat": 4,
 "nbformat_minor": 2
}
